{
  "cells": [
    {
      "cell_type": "markdown",
      "id": "f0f7291d-9e21-4991-96c3-d4fdfa6ed858",
      "metadata": {
        "nteract": {
          "transient": {
            "deleting": false
          }
        }
      },
      "source": [
        "## Install Required Libraries"
      ]
    },
    {
      "cell_type": "code",
      "execution_count": null,
      "id": "b4633200-f5b4-463f-b716-be6b8bf26b8f",
      "metadata": {
        "collapsed": true,
        "execution": {
          "iopub.execute_input": "2021-04-19T16:47:59.287Z",
          "iopub.status.busy": "2021-04-19T16:47:59.283Z",
          "iopub.status.idle": "2021-04-19T16:48:02.177Z",
          "shell.execute_reply": "2021-04-19T16:48:02.140Z"
        },
        "jupyter": {
          "outputs_hidden": false,
          "source_hidden": false
        },
        "nteract": {
          "transient": {
            "deleting": false
          }
        },
        "trusted": true
      },
      "outputs": [],
      "source": [
        "import sys, traceback\n",
        "!{sys.executable} -m pip install gremlinpython==3.4.10\n",
        "!{sys.executable} -m pip install futures\n",
        "!{sys.executable} -m pip install networkx\n",
        "\n",
        "import nest_asyncio\n",
        "nest_asyncio.apply()\n",
        "\n",
        "print(sys.version)"
      ]
    },
    {
      "cell_type": "markdown",
      "id": "49782752-1ad3-4aa0-89a2-da43da5d1925",
      "metadata": {
        "nteract": {
          "transient": {
            "deleting": false
          }
        }
      },
      "source": [
        "## Client Connection - Edit to point to correct account / DB"
      ]
    },
    {
      "cell_type": "code",
      "execution_count": null,
      "id": "2aaf920f-f4e3-4d0f-ad35-afeb47679b55",
      "metadata": {
        "collapsed": true,
        "execution": {
          "iopub.execute_input": "2021-04-19T16:48:30.856Z",
          "iopub.status.busy": "2021-04-19T16:48:30.849Z",
          "iopub.status.idle": "2021-04-19T16:48:30.892Z",
          "shell.execute_reply": "2021-04-19T16:48:30.900Z"
        },
        "jupyter": {
          "outputs_hidden": false,
          "source_hidden": false
        },
        "nteract": {
          "transient": {
            "deleting": false
          }
        },
        "trusted": true
      },
      "outputs": [],
      "source": [
        "from gremlin_python.driver import client, serializer\n",
        "\n",
        "client = client.Client(\n",
        "        '<GREMLIN ENDPOINT URL>','g', \n",
        "        username=\"/dbs/<DATABASE NAME>/colls/<GRAPH NAME>\",\n",
        "    password=\"<COSMOS ACCESS KEY>\",\n",
        "        message_serializer=serializer.GraphSONSerializersV2d0()\n",
        ")\n"
      ]
    },
    {
      "cell_type": "markdown",
      "id": "353dbf6e-0040-4564-a2f1-085f63ce8be4",
      "metadata": {
        "nteract": {
          "transient": {
            "deleting": false
          }
        }
      },
      "source": [
        "## Client Code to Execute Queries"
      ]
    },
    {
      "cell_type": "code",
      "execution_count": null,
      "id": "2736e83a-a497-42c1-819a-9c5174bd3803",
      "metadata": {
        "collapsed": true,
        "execution": {
          "iopub.execute_input": "2021-04-19T16:48:37.146Z",
          "iopub.status.busy": "2021-04-19T16:48:37.119Z",
          "iopub.status.idle": "2021-04-19T16:48:37.161Z",
          "shell.execute_reply": "2021-04-19T16:48:37.169Z"
        },
        "jupyter": {
          "outputs_hidden": false,
          "source_hidden": false
        },
        "nteract": {
          "transient": {
            "deleting": false
          }
        },
        "trusted": true
      },
      "outputs": [],
      "source": [
        "from gremlin_python.driver.protocol import GremlinServerError\r\n",
        "\r\n",
        "cosmosdb_messages = {\r\n",
        "    409: 'Conflict exception. You\\'re probably inserting the same ID again.',\r\n",
        "    429: 'Not enough RUs for this query. Try again.'\r\n",
        "}\r\n",
        "\r\n",
        "def executeGremlinQuery(gremlinQuery, message=None, params=None):\r\n",
        "    try: \r\n",
        "        callback = client.submitAsync(gremlinQuery)\r\n",
        "        if callback.result() is not None:\r\n",
        "            return callback.result().one()\r\n",
        "    except GremlinServerError as ex:\r\n",
        "        status=ex.status_attributes['x-ms-status-code']\r\n",
        "        print('There was an exception: {0}'.format(status))\r\n",
        "        print(cosmosdb_messages[status])\r\n",
        "        "
      ]
    },
    {
      "cell_type": "markdown",
      "id": "b647edc6-0499-4572-8583-2cbefc8e4a8c",
      "metadata": {
        "nteract": {
          "transient": {
            "deleting": false
          }
        }
      },
      "source": [
        "## Create \"Modern Graph\" "
      ]
    },
    {
      "cell_type": "code",
      "execution_count": null,
      "id": "054fa331-55c9-4716-b09b-f239fad43879",
      "metadata": {
        "collapsed": true,
        "execution": {
          "iopub.execute_input": "2021-04-19T16:53:06.051Z",
          "iopub.status.busy": "2021-04-19T16:53:06.026Z",
          "iopub.status.idle": "2021-04-19T16:53:07.056Z",
          "shell.execute_reply": "2021-04-19T16:53:07.044Z"
        },
        "jupyter": {
          "outputs_hidden": false,
          "source_hidden": false
        },
        "nteract": {
          "transient": {
            "deleting": false
          }
        },
        "trusted": true
      },
      "outputs": [],
      "source": [
        "executeGremlinQuery(\"g.addV('person').property(id,'v1').property('name','marko').property('age','29').property('dept','accounts').addV('person').property(id,'v2').property('name','vadas').property('age','27').property('dept','accounts').addV('software').property(id,'v3').property('name','lop').property('lang','java').property('dept','accounts').addV('person').property(id,'v4').property('name','josh').property('age','32').property('dept','accounts').addV('software').property(id,'v5').property('name','ripple').property('lang','java').property('dept','sales').addV('person').property(id,'v6').property('name','peter').property('age','35').property('dept','sales')\")\r\n",
        "\r\n",
        "executeGremlinQuery(\"g.V('v1').addE('created').to(g.V('v3')).property(id,'e9').property('weight','0.4')\")\r\n",
        "executeGremlinQuery(\"g.V('v4').addE('created').to(g.V('v5')).property(id,'e10').property('weight','1.0')\")\r\n",
        "executeGremlinQuery(\"g.V('v4').addE('created').to(g.V('v3')).property(id,'e11').property('weight','0.4')\")\r\n",
        "executeGremlinQuery(\"g.V('v6').addE('created').to(g.V('v3')).property(id,'e12').property('weight','0.2')\")\r\n",
        "\r\n",
        "executeGremlinQuery(\"g.V('v1').addE('knows').to(g.V('v2')).property(id,'e7').property('weight','0.4')\")\r\n",
        "executeGremlinQuery(\"g.V('v1').addE('knows').to(g.V('v4')).property(id,'e8').property('weight','1.0')\")\r\n",
        "\r\n",
        "\r\n",
        "result = executeGremlinQuery(\"g.V().count()\")\r\n",
        "print(\"Count of vertices: {0}\".format(result))\r\n",
        "\r\n",
        "result = executeGremlinQuery(\"g.E().count()\")\r\n",
        "print(\"Count of edges: {0}\".format(result))"
      ]
    }
  ],
  "metadata": {
    "language_info": {
      "file_extension": "ipynb",
      "mimetype": "application/json",
      "name": "python",
      "version": "3.7"
    },
    "nteract": {
      "version": "dataExplorer 1.0"
    }
  },
  "nbformat": 4,
  "nbformat_minor": 5
}